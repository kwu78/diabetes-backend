{
 "cells": [
  {
   "cell_type": "code",
   "execution_count": 1,
   "id": "41ddeefd-df0d-417d-84ca-bc1cf78eb106",
   "metadata": {},
   "outputs": [],
   "source": [
    "from fhirclient import client\n",
    "from fhirclient.models.patient import Patient"
   ]
  },
  {
   "cell_type": "code",
   "execution_count": 2,
   "id": "c6ae452c-b2e8-4a0f-ae30-da5038fd3805",
   "metadata": {},
   "outputs": [
    {
     "name": "stdout",
     "output_type": "stream",
     "text": [
      "1992-07-03\n"
     ]
    }
   ],
   "source": [
    "settings = {\n",
    "    'app_id': 'my_web_app',\n",
    "    'api_base': 'https://r4.smarthealthit.org'\n",
    "}\n",
    "smart = client.FHIRClient(settings=settings)\n",
    "\n",
    "patient = Patient.read('2cda5aad-e409-4070-9a15-e1c35c46ed5a', smart.server)\n",
    "print(patient.birthDate.isostring)"
   ]
  },
  {
   "cell_type": "code",
   "execution_count": null,
   "id": "a419d27b-dc15-4851-adda-582880300e00",
   "metadata": {},
   "outputs": [],
   "source": [
    "Patient.read("
   ]
  }
 ],
 "metadata": {
  "kernelspec": {
   "display_name": "Python 3 (ipykernel)",
   "language": "python",
   "name": "python3"
  },
  "language_info": {
   "codemirror_mode": {
    "name": "ipython",
    "version": 3
   },
   "file_extension": ".py",
   "mimetype": "text/x-python",
   "name": "python",
   "nbconvert_exporter": "python",
   "pygments_lexer": "ipython3",
   "version": "3.10.14"
  }
 },
 "nbformat": 4,
 "nbformat_minor": 5
}
